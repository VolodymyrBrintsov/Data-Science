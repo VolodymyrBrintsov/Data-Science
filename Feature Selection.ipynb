{
 "cells": [
  {
   "cell_type": "code",
   "source": [
    "import pandas as pd\n",
    "from sklearn.model_selection import train_test_split\n"
   ],
   "execution_count": 5,
   "outputs": [],
   "metadata": {}
  },
  {
   "cell_type": "markdown",
   "source": [
    "# 1) Variance Threshold\n",
    "- Removing the features which have constant features which are actually not important for solving the problem statement\n",
    "- This feature selection algorithm looks only at the features (X), not the desired outputs (y), and can thus be used for unsupervised learning."
   ],
   "metadata": {}
  },
  {
   "cell_type": "code",
   "source": [
    "from sklearn.feature_selection import VarianceThreshold\n",
    "# Remove every column with variance equal 0\n",
    "varthresh = VarianceThreshold(threshold=0)\n",
    "df=pd.read_csv('data/variance_data.csv')\n",
    "df.head()\n",
    "\n"
   ],
   "execution_count": 6,
   "outputs": [
    {
     "data": {
      "text/plain": "   ID  var3  var15  imp_ent_var16_ult1  imp_op_var39_comer_ult1  \\\n0   1     2     23                 0.0                      0.0   \n1   3     2     34                 0.0                      0.0   \n2   4     2     23                 0.0                      0.0   \n3   8     2     37                 0.0                    195.0   \n4  10     2     39                 0.0                      0.0   \n\n   imp_op_var39_comer_ult3  imp_op_var40_comer_ult1  imp_op_var40_comer_ult3  \\\n0                      0.0                      0.0                      0.0   \n1                      0.0                      0.0                      0.0   \n2                      0.0                      0.0                      0.0   \n3                    195.0                      0.0                      0.0   \n4                      0.0                      0.0                      0.0   \n\n   imp_op_var40_efect_ult1  imp_op_var40_efect_ult3  ...  \\\n0                      0.0                      0.0  ...   \n1                      0.0                      0.0  ...   \n2                      0.0                      0.0  ...   \n3                      0.0                      0.0  ...   \n4                      0.0                      0.0  ...   \n\n   saldo_medio_var33_hace2  saldo_medio_var33_hace3  saldo_medio_var33_ult1  \\\n0                      0.0                      0.0                     0.0   \n1                      0.0                      0.0                     0.0   \n2                      0.0                      0.0                     0.0   \n3                      0.0                      0.0                     0.0   \n4                      0.0                      0.0                     0.0   \n\n   saldo_medio_var33_ult3  saldo_medio_var44_hace2  saldo_medio_var44_hace3  \\\n0                     0.0                      0.0                      0.0   \n1                     0.0                      0.0                      0.0   \n2                     0.0                      0.0                      0.0   \n3                     0.0                      0.0                      0.0   \n4                     0.0                      0.0                      0.0   \n\n   saldo_medio_var44_ult1  saldo_medio_var44_ult3          var38  TARGET  \n0                     0.0                     0.0   39205.170000       0  \n1                     0.0                     0.0   49278.030000       0  \n2                     0.0                     0.0   67333.770000       0  \n3                     0.0                     0.0   64007.970000       0  \n4                     0.0                     0.0  117310.979016       0  \n\n[5 rows x 371 columns]",
      "text/html": "<div>\n<style scoped>\n    .dataframe tbody tr th:only-of-type {\n        vertical-align: middle;\n    }\n\n    .dataframe tbody tr th {\n        vertical-align: top;\n    }\n\n    .dataframe thead th {\n        text-align: right;\n    }\n</style>\n<table border=\"1\" class=\"dataframe\">\n  <thead>\n    <tr style=\"text-align: right;\">\n      <th></th>\n      <th>ID</th>\n      <th>var3</th>\n      <th>var15</th>\n      <th>imp_ent_var16_ult1</th>\n      <th>imp_op_var39_comer_ult1</th>\n      <th>imp_op_var39_comer_ult3</th>\n      <th>imp_op_var40_comer_ult1</th>\n      <th>imp_op_var40_comer_ult3</th>\n      <th>imp_op_var40_efect_ult1</th>\n      <th>imp_op_var40_efect_ult3</th>\n      <th>...</th>\n      <th>saldo_medio_var33_hace2</th>\n      <th>saldo_medio_var33_hace3</th>\n      <th>saldo_medio_var33_ult1</th>\n      <th>saldo_medio_var33_ult3</th>\n      <th>saldo_medio_var44_hace2</th>\n      <th>saldo_medio_var44_hace3</th>\n      <th>saldo_medio_var44_ult1</th>\n      <th>saldo_medio_var44_ult3</th>\n      <th>var38</th>\n      <th>TARGET</th>\n    </tr>\n  </thead>\n  <tbody>\n    <tr>\n      <th>0</th>\n      <td>1</td>\n      <td>2</td>\n      <td>23</td>\n      <td>0.0</td>\n      <td>0.0</td>\n      <td>0.0</td>\n      <td>0.0</td>\n      <td>0.0</td>\n      <td>0.0</td>\n      <td>0.0</td>\n      <td>...</td>\n      <td>0.0</td>\n      <td>0.0</td>\n      <td>0.0</td>\n      <td>0.0</td>\n      <td>0.0</td>\n      <td>0.0</td>\n      <td>0.0</td>\n      <td>0.0</td>\n      <td>39205.170000</td>\n      <td>0</td>\n    </tr>\n    <tr>\n      <th>1</th>\n      <td>3</td>\n      <td>2</td>\n      <td>34</td>\n      <td>0.0</td>\n      <td>0.0</td>\n      <td>0.0</td>\n      <td>0.0</td>\n      <td>0.0</td>\n      <td>0.0</td>\n      <td>0.0</td>\n      <td>...</td>\n      <td>0.0</td>\n      <td>0.0</td>\n      <td>0.0</td>\n      <td>0.0</td>\n      <td>0.0</td>\n      <td>0.0</td>\n      <td>0.0</td>\n      <td>0.0</td>\n      <td>49278.030000</td>\n      <td>0</td>\n    </tr>\n    <tr>\n      <th>2</th>\n      <td>4</td>\n      <td>2</td>\n      <td>23</td>\n      <td>0.0</td>\n      <td>0.0</td>\n      <td>0.0</td>\n      <td>0.0</td>\n      <td>0.0</td>\n      <td>0.0</td>\n      <td>0.0</td>\n      <td>...</td>\n      <td>0.0</td>\n      <td>0.0</td>\n      <td>0.0</td>\n      <td>0.0</td>\n      <td>0.0</td>\n      <td>0.0</td>\n      <td>0.0</td>\n      <td>0.0</td>\n      <td>67333.770000</td>\n      <td>0</td>\n    </tr>\n    <tr>\n      <th>3</th>\n      <td>8</td>\n      <td>2</td>\n      <td>37</td>\n      <td>0.0</td>\n      <td>195.0</td>\n      <td>195.0</td>\n      <td>0.0</td>\n      <td>0.0</td>\n      <td>0.0</td>\n      <td>0.0</td>\n      <td>...</td>\n      <td>0.0</td>\n      <td>0.0</td>\n      <td>0.0</td>\n      <td>0.0</td>\n      <td>0.0</td>\n      <td>0.0</td>\n      <td>0.0</td>\n      <td>0.0</td>\n      <td>64007.970000</td>\n      <td>0</td>\n    </tr>\n    <tr>\n      <th>4</th>\n      <td>10</td>\n      <td>2</td>\n      <td>39</td>\n      <td>0.0</td>\n      <td>0.0</td>\n      <td>0.0</td>\n      <td>0.0</td>\n      <td>0.0</td>\n      <td>0.0</td>\n      <td>0.0</td>\n      <td>...</td>\n      <td>0.0</td>\n      <td>0.0</td>\n      <td>0.0</td>\n      <td>0.0</td>\n      <td>0.0</td>\n      <td>0.0</td>\n      <td>0.0</td>\n      <td>0.0</td>\n      <td>117310.979016</td>\n      <td>0</td>\n    </tr>\n  </tbody>\n</table>\n<p>5 rows × 371 columns</p>\n</div>"
     },
     "execution_count": 6,
     "metadata": {},
     "output_type": "execute_result"
    }
   ],
   "metadata": {}
  },
  {
   "cell_type": "code",
   "execution_count": 7,
   "outputs": [
    {
     "data": {
      "text/plain": "((53214, 370), (22806, 370))"
     },
     "execution_count": 7,
     "metadata": {},
     "output_type": "execute_result"
    }
   ],
   "source": [
    "X=df.drop(labels=['TARGET'], axis=1)\n",
    "y=df['TARGET']\n",
    "X_train, X_test, y_train, y_test = train_test_split(\n",
    "    df.drop(labels=['TARGET'], axis=1),\n",
    "    df['TARGET'],\n",
    "    test_size=0.3,\n",
    "    random_state=0)\n",
    "\n",
    "X_train.shape, X_test.shape"
   ],
   "metadata": {
    "collapsed": false,
    "pycharm": {
     "name": "#%%\n"
    }
   }
  },
  {
   "cell_type": "code",
   "execution_count": 13,
   "outputs": [
    {
     "name": "stdout",
     "output_type": "stream",
     "text": [
      "38\n"
     ]
    },
    {
     "data": {
      "text/plain": "           ID  var3  var15  imp_ent_var16_ult1  imp_op_var39_comer_ult1  \\\n7526    15083     2     23                 0.0                     0.00   \n51929  103706     2     48                 0.0                     0.00   \n46677   93351     2     40                 0.0                     0.00   \n46194   92424     2     83                 0.0                     0.00   \n20190   40437     2     79                 0.0                   535.41   \n...       ...   ...    ...                 ...                      ...   \n21243   42533    53     46                 0.0                  1770.48   \n45891   91801     2     29                 0.0                     0.00   \n42613   85345     9     23                 0.0                     0.00   \n43567   87270     2     30                60.0                    72.48   \n68268  136296     2     55                 0.0                     0.00   \n\n       imp_op_var39_comer_ult3  imp_op_var40_comer_ult1  \\\n7526                      0.00                     0.00   \n51929                     0.00                     0.00   \n46677                     0.00                     0.00   \n46194                     0.00                     0.00   \n20190                   535.41                     0.00   \n...                        ...                      ...   \n21243                  2669.46                   451.74   \n45891                     0.00                     0.00   \n42613                     0.00                     0.00   \n43567                    95.64                     0.00   \n68268                     0.00                     0.00   \n\n       imp_op_var40_comer_ult3  imp_op_var40_efect_ult1  \\\n7526                      0.00                      0.0   \n51929                     0.00                      0.0   \n46677                     0.00                      0.0   \n46194                     0.00                      0.0   \n20190                     0.00                      0.0   \n...                        ...                      ...   \n21243                   808.77                      0.0   \n45891                     0.00                      0.0   \n42613                     0.00                      0.0   \n43567                     0.00                      0.0   \n68268                     0.00                      0.0   \n\n       imp_op_var40_efect_ult3  ...  saldo_medio_var29_ult3  \\\n7526                       0.0  ...                     0.0   \n51929                      0.0  ...                     0.0   \n46677                      0.0  ...                     0.0   \n46194                      0.0  ...                     0.0   \n20190                      0.0  ...                     0.0   \n...                        ...  ...                     ...   \n21243                      0.0  ...                     0.0   \n45891                      0.0  ...                     0.0   \n42613                      0.0  ...                     0.0   \n43567                      0.0  ...                     0.0   \n68268                      0.0  ...                     0.0   \n\n       saldo_medio_var33_hace2  saldo_medio_var33_hace3  \\\n7526                       0.0                      0.0   \n51929                      0.0                      0.0   \n46677                      0.0                      0.0   \n46194                      0.0                      0.0   \n20190                      0.0                      0.0   \n...                        ...                      ...   \n21243                      0.0                      0.0   \n45891                      0.0                      0.0   \n42613                      0.0                      0.0   \n43567                      0.0                      0.0   \n68268                      0.0                      0.0   \n\n       saldo_medio_var33_ult1  saldo_medio_var33_ult3  \\\n7526                      0.0                     0.0   \n51929                     0.0                     0.0   \n46677                     0.0                     0.0   \n46194                     0.0                     0.0   \n20190                     0.0                     0.0   \n...                       ...                     ...   \n21243                     0.0                     0.0   \n45891                     0.0                     0.0   \n42613                     0.0                     0.0   \n43567                     0.0                     0.0   \n68268                     0.0                     0.0   \n\n       saldo_medio_var44_hace2  saldo_medio_var44_hace3  \\\n7526                       0.0                      0.0   \n51929                      0.0                      0.0   \n46677                      0.0                      0.0   \n46194                      0.0                      0.0   \n20190                      0.0                      0.0   \n...                        ...                      ...   \n21243                      0.0                      0.0   \n45891                      0.0                      0.0   \n42613                      0.0                      0.0   \n43567                      0.0                      0.0   \n68268                      0.0                      0.0   \n\n       saldo_medio_var44_ult1  saldo_medio_var44_ult3          var38  \n7526                      0.0                     0.0  117310.979016  \n51929                     0.0                     0.0  451931.220000  \n46677                     0.0                     0.0   41225.670000  \n46194                     0.0                     0.0  117310.979016  \n20190                     0.0                     0.0  153477.690000  \n...                       ...                     ...            ...  \n21243                     0.0                     0.0  124242.570000  \n45891                     0.0                     0.0   34968.270000  \n42613                     0.0                     0.0   69090.870000  \n43567                     0.0                     0.0   66354.510000  \n68268                     0.0                     0.0   75958.920000  \n\n[53214 rows x 332 columns]",
      "text/html": "<div>\n<style scoped>\n    .dataframe tbody tr th:only-of-type {\n        vertical-align: middle;\n    }\n\n    .dataframe tbody tr th {\n        vertical-align: top;\n    }\n\n    .dataframe thead th {\n        text-align: right;\n    }\n</style>\n<table border=\"1\" class=\"dataframe\">\n  <thead>\n    <tr style=\"text-align: right;\">\n      <th></th>\n      <th>ID</th>\n      <th>var3</th>\n      <th>var15</th>\n      <th>imp_ent_var16_ult1</th>\n      <th>imp_op_var39_comer_ult1</th>\n      <th>imp_op_var39_comer_ult3</th>\n      <th>imp_op_var40_comer_ult1</th>\n      <th>imp_op_var40_comer_ult3</th>\n      <th>imp_op_var40_efect_ult1</th>\n      <th>imp_op_var40_efect_ult3</th>\n      <th>...</th>\n      <th>saldo_medio_var29_ult3</th>\n      <th>saldo_medio_var33_hace2</th>\n      <th>saldo_medio_var33_hace3</th>\n      <th>saldo_medio_var33_ult1</th>\n      <th>saldo_medio_var33_ult3</th>\n      <th>saldo_medio_var44_hace2</th>\n      <th>saldo_medio_var44_hace3</th>\n      <th>saldo_medio_var44_ult1</th>\n      <th>saldo_medio_var44_ult3</th>\n      <th>var38</th>\n    </tr>\n  </thead>\n  <tbody>\n    <tr>\n      <th>7526</th>\n      <td>15083</td>\n      <td>2</td>\n      <td>23</td>\n      <td>0.0</td>\n      <td>0.00</td>\n      <td>0.00</td>\n      <td>0.00</td>\n      <td>0.00</td>\n      <td>0.0</td>\n      <td>0.0</td>\n      <td>...</td>\n      <td>0.0</td>\n      <td>0.0</td>\n      <td>0.0</td>\n      <td>0.0</td>\n      <td>0.0</td>\n      <td>0.0</td>\n      <td>0.0</td>\n      <td>0.0</td>\n      <td>0.0</td>\n      <td>117310.979016</td>\n    </tr>\n    <tr>\n      <th>51929</th>\n      <td>103706</td>\n      <td>2</td>\n      <td>48</td>\n      <td>0.0</td>\n      <td>0.00</td>\n      <td>0.00</td>\n      <td>0.00</td>\n      <td>0.00</td>\n      <td>0.0</td>\n      <td>0.0</td>\n      <td>...</td>\n      <td>0.0</td>\n      <td>0.0</td>\n      <td>0.0</td>\n      <td>0.0</td>\n      <td>0.0</td>\n      <td>0.0</td>\n      <td>0.0</td>\n      <td>0.0</td>\n      <td>0.0</td>\n      <td>451931.220000</td>\n    </tr>\n    <tr>\n      <th>46677</th>\n      <td>93351</td>\n      <td>2</td>\n      <td>40</td>\n      <td>0.0</td>\n      <td>0.00</td>\n      <td>0.00</td>\n      <td>0.00</td>\n      <td>0.00</td>\n      <td>0.0</td>\n      <td>0.0</td>\n      <td>...</td>\n      <td>0.0</td>\n      <td>0.0</td>\n      <td>0.0</td>\n      <td>0.0</td>\n      <td>0.0</td>\n      <td>0.0</td>\n      <td>0.0</td>\n      <td>0.0</td>\n      <td>0.0</td>\n      <td>41225.670000</td>\n    </tr>\n    <tr>\n      <th>46194</th>\n      <td>92424</td>\n      <td>2</td>\n      <td>83</td>\n      <td>0.0</td>\n      <td>0.00</td>\n      <td>0.00</td>\n      <td>0.00</td>\n      <td>0.00</td>\n      <td>0.0</td>\n      <td>0.0</td>\n      <td>...</td>\n      <td>0.0</td>\n      <td>0.0</td>\n      <td>0.0</td>\n      <td>0.0</td>\n      <td>0.0</td>\n      <td>0.0</td>\n      <td>0.0</td>\n      <td>0.0</td>\n      <td>0.0</td>\n      <td>117310.979016</td>\n    </tr>\n    <tr>\n      <th>20190</th>\n      <td>40437</td>\n      <td>2</td>\n      <td>79</td>\n      <td>0.0</td>\n      <td>535.41</td>\n      <td>535.41</td>\n      <td>0.00</td>\n      <td>0.00</td>\n      <td>0.0</td>\n      <td>0.0</td>\n      <td>...</td>\n      <td>0.0</td>\n      <td>0.0</td>\n      <td>0.0</td>\n      <td>0.0</td>\n      <td>0.0</td>\n      <td>0.0</td>\n      <td>0.0</td>\n      <td>0.0</td>\n      <td>0.0</td>\n      <td>153477.690000</td>\n    </tr>\n    <tr>\n      <th>...</th>\n      <td>...</td>\n      <td>...</td>\n      <td>...</td>\n      <td>...</td>\n      <td>...</td>\n      <td>...</td>\n      <td>...</td>\n      <td>...</td>\n      <td>...</td>\n      <td>...</td>\n      <td>...</td>\n      <td>...</td>\n      <td>...</td>\n      <td>...</td>\n      <td>...</td>\n      <td>...</td>\n      <td>...</td>\n      <td>...</td>\n      <td>...</td>\n      <td>...</td>\n      <td>...</td>\n    </tr>\n    <tr>\n      <th>21243</th>\n      <td>42533</td>\n      <td>53</td>\n      <td>46</td>\n      <td>0.0</td>\n      <td>1770.48</td>\n      <td>2669.46</td>\n      <td>451.74</td>\n      <td>808.77</td>\n      <td>0.0</td>\n      <td>0.0</td>\n      <td>...</td>\n      <td>0.0</td>\n      <td>0.0</td>\n      <td>0.0</td>\n      <td>0.0</td>\n      <td>0.0</td>\n      <td>0.0</td>\n      <td>0.0</td>\n      <td>0.0</td>\n      <td>0.0</td>\n      <td>124242.570000</td>\n    </tr>\n    <tr>\n      <th>45891</th>\n      <td>91801</td>\n      <td>2</td>\n      <td>29</td>\n      <td>0.0</td>\n      <td>0.00</td>\n      <td>0.00</td>\n      <td>0.00</td>\n      <td>0.00</td>\n      <td>0.0</td>\n      <td>0.0</td>\n      <td>...</td>\n      <td>0.0</td>\n      <td>0.0</td>\n      <td>0.0</td>\n      <td>0.0</td>\n      <td>0.0</td>\n      <td>0.0</td>\n      <td>0.0</td>\n      <td>0.0</td>\n      <td>0.0</td>\n      <td>34968.270000</td>\n    </tr>\n    <tr>\n      <th>42613</th>\n      <td>85345</td>\n      <td>9</td>\n      <td>23</td>\n      <td>0.0</td>\n      <td>0.00</td>\n      <td>0.00</td>\n      <td>0.00</td>\n      <td>0.00</td>\n      <td>0.0</td>\n      <td>0.0</td>\n      <td>...</td>\n      <td>0.0</td>\n      <td>0.0</td>\n      <td>0.0</td>\n      <td>0.0</td>\n      <td>0.0</td>\n      <td>0.0</td>\n      <td>0.0</td>\n      <td>0.0</td>\n      <td>0.0</td>\n      <td>69090.870000</td>\n    </tr>\n    <tr>\n      <th>43567</th>\n      <td>87270</td>\n      <td>2</td>\n      <td>30</td>\n      <td>60.0</td>\n      <td>72.48</td>\n      <td>95.64</td>\n      <td>0.00</td>\n      <td>0.00</td>\n      <td>0.0</td>\n      <td>0.0</td>\n      <td>...</td>\n      <td>0.0</td>\n      <td>0.0</td>\n      <td>0.0</td>\n      <td>0.0</td>\n      <td>0.0</td>\n      <td>0.0</td>\n      <td>0.0</td>\n      <td>0.0</td>\n      <td>0.0</td>\n      <td>66354.510000</td>\n    </tr>\n    <tr>\n      <th>68268</th>\n      <td>136296</td>\n      <td>2</td>\n      <td>55</td>\n      <td>0.0</td>\n      <td>0.00</td>\n      <td>0.00</td>\n      <td>0.00</td>\n      <td>0.00</td>\n      <td>0.0</td>\n      <td>0.0</td>\n      <td>...</td>\n      <td>0.0</td>\n      <td>0.0</td>\n      <td>0.0</td>\n      <td>0.0</td>\n      <td>0.0</td>\n      <td>0.0</td>\n      <td>0.0</td>\n      <td>0.0</td>\n      <td>0.0</td>\n      <td>75958.920000</td>\n    </tr>\n  </tbody>\n</table>\n<p>53214 rows × 332 columns</p>\n</div>"
     },
     "execution_count": 13,
     "metadata": {},
     "output_type": "execute_result"
    }
   ],
   "source": [
    "varthresh.fit(X_train)\n",
    "zero_var_columns = [column for column in X_train.columns\n",
    "                    if column not in X_train.columns[varthresh.get_support()]]\n",
    "print(len(zero_var_columns))\n",
    "X_train.drop(zero_var_columns,axis=1)"
   ],
   "metadata": {
    "collapsed": false,
    "pycharm": {
     "name": "#%%\n"
    }
   }
  },
  {
   "cell_type": "markdown",
   "source": [],
   "metadata": {
    "collapsed": false,
    "pycharm": {
     "name": "#%% md\n"
    }
   }
  }
 ],
 "metadata": {
  "kernelspec": {
   "name": "python3",
   "language": "python",
   "display_name": "Python 3"
  }
 },
 "nbformat": 4,
 "nbformat_minor": 0
}