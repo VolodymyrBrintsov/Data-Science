{
 "cells": [
  {
   "cell_type": "markdown",
   "metadata": {
    "collapsed": true,
    "pycharm": {
     "name": "#%% md\n"
    }
   },
   "source": [
    "# Tokenization:\n",
    "- Is a process that splits in input sequence into tokens(ex. split the text on whitespaces: \"This is Adrew\" -> [\"This\", \"is\", \"Andrew\"])\n",
    "\n"
   ]
  },
  {
   "cell_type": "code",
   "execution_count": 3,
   "outputs": [
    {
     "data": {
      "text/plain": "['This', 'is', 'my', 'friend', \"'s\", 'text', '!']"
     },
     "execution_count": 3,
     "metadata": {},
     "output_type": "execute_result"
    }
   ],
   "source": [
    "import nltk\n",
    "text = \"This is my friend's text!\"\n",
    "#Tokenization TreebankWordTokenization\n",
    "tokens = nltk.tokenize.word_tokenize(text)\n",
    "tokens"
   ],
   "metadata": {
    "collapsed": false,
    "pycharm": {
     "name": "#%%\n"
    }
   }
  },
  {
   "cell_type": "markdown",
   "source": [
    "### There are different types of tokenization:\n",
    "- WhiteSpace tokenization:"
   ],
   "metadata": {
    "collapsed": false,
    "pycharm": {
     "name": "#%% md\n"
    }
   }
  },
  {
   "cell_type": "code",
   "execution_count": 5,
   "outputs": [
    {
     "name": "stdout",
     "output_type": "stream",
     "text": [
      "Splitting by whitespaces: ['This', 'is', 'my', \"friend's\", 'text!']\n",
      "\n"
     ]
    }
   ],
   "source": [
    "#White spaces tokenization:\n",
    "white_space_tokens = nltk.tokenize.WhitespaceTokenizer().tokenize(text)\n",
    "print(f\"Splitting by whitespaces: {white_space_tokens}\\n\")\n"
   ],
   "metadata": {
    "collapsed": false,
    "pycharm": {
     "name": "#%%\n"
    }
   }
  },
  {
   "cell_type": "markdown",
   "source": [
    "- TreeBank tokenization:\n",
    "    - split standard contractions, e.g. don't -> **do n't** and they'll -> **they 'll**\n",
    "    - treat most punctuation characters as separate tokens\n",
    "    - split off commas and single quotes, when followed by whitespace\n",
    "    - separate periods that appear at the end of line"
   ],
   "metadata": {
    "collapsed": false,
    "pycharm": {
     "name": "#%% md\n"
    }
   }
  },
  {
   "cell_type": "code",
   "execution_count": 6,
   "outputs": [
    {
     "name": "stdout",
     "output_type": "stream",
     "text": [
      "TreeBank splitting: ['This', 'is', 'my', 'friend', \"'s\", 'text', '!']\n",
      "\n"
     ]
    }
   ],
   "source": [
    "#TreeBankTokenization\n",
    "tree_bank_tokens = nltk.tokenize.TreebankWordTokenizer().tokenize(text)\n",
    "print(f\"TreeBank splitting: {tree_bank_tokens}\\n\")"
   ],
   "metadata": {
    "collapsed": false,
    "pycharm": {
     "name": "#%%\n"
    }
   }
  },
  {
   "cell_type": "markdown",
   "source": [
    "- WordPunct tokenization:\n",
    "    - Tokenize a text into a sequence of alphabetic and non-alphabetic characters, using the regexp **\\w+|[^\\w\\s]+**."
   ],
   "metadata": {
    "collapsed": false,
    "pycharm": {
     "name": "#%% md\n"
    }
   }
  },
  {
   "cell_type": "code",
   "execution_count": 11,
   "outputs": [
    {
     "name": "stdout",
     "output_type": "stream",
     "text": [
      "Splitting on punctuation: ['feet', 'wolves', 'cats', 'talked']\n",
      "\n"
     ]
    }
   ],
   "source": [
    "#WordPunctTokenization\n",
    "word_punct_tokens = nltk.tokenize.WordPunctTokenizer().tokenize(text)\n",
    "print(f\"Splitting on punctuation: {word_punct_tokens}\\n\")"
   ],
   "metadata": {
    "collapsed": false,
    "pycharm": {
     "name": "#%%\n"
    }
   }
  },
  {
   "cell_type": "markdown",
   "source": [
    "# Removing stop words:\n",
    "- “Stop words” are the most common words in a language like “the”, “a”, “on”, “is”, “all”. These words do not carry important meaning and are usually removed from texts."
   ],
   "metadata": {
    "collapsed": false,
    "pycharm": {
     "name": "#%% md\n"
    }
   }
  },
  {
   "cell_type": "code",
   "execution_count": 12,
   "outputs": [
    {
     "name": "stdout",
     "output_type": "stream",
     "text": [
      "['NLTK', 'leading', 'platform', 'building', 'Python', 'programs', 'work', 'human', 'language', 'data', '.']\n"
     ]
    }
   ],
   "source": [
    "from nltk.corpus import stopwords\n",
    "input_str = \"NLTK is a leading platform for building Python programs to work with human language data.\"\n",
    "stop_words = set(stopwords.words(\"english\"))\n",
    "from nltk.tokenize import word_tokenize\n",
    "tokens = word_tokenize(input_str)\n",
    "result = [i for i in tokens if not i in stop_words]\n",
    "print (result)"
   ],
   "metadata": {
    "collapsed": false,
    "pycharm": {
     "name": "#%%\n"
    }
   }
  },
  {
   "cell_type": "markdown",
   "source": [
    "# Token Normalization:\n",
    "#### We may want to see the same tokens for different forms of the word:\n",
    "    - wolf, wolves -> wolf\n",
    "    - talk, talks -> talk\n",
    "#### Stemming:\n",
    "    - A process of removing and replacing suffixes to get to\n",
    "    the root form of the word, which is known as stemm\n",
    "#### Lemmatazation:\n",
    "    - Returns the base or dictionary from a word,\n",
    "    which is known as lemma"
   ],
   "metadata": {
    "collapsed": false,
    "pycharm": {
     "name": "#%% md\n"
    }
   }
  },
  {
   "cell_type": "code",
   "execution_count": 10,
   "outputs": [
    {
     "name": "stdout",
     "output_type": "stream",
     "text": [
      "Sentence:  feet wolves cats talked\n",
      "Stemming sentence: feet wolv cat talk\n",
      "Lemmatize sentece: foot wolf cat talked\n"
     ]
    }
   ],
   "source": [
    "text = \"feet wolves cats talked\"\n",
    "tokenizer = nltk.tokenize.TreebankWordTokenizer()\n",
    "tokens = tokenizer.tokenize(text)\n",
    "\n",
    "stemm = nltk.stem.PorterStemmer()\n",
    "lemma = nltk.stem.WordNetLemmatizer()\n",
    "print(\"Sentence: \", text)\n",
    "print(f\"Stemming sentence: {' '.join(stemm.stem(token) for token in tokens)}\")\n",
    "print(f\"Lemmatize sentece: {' '.join(lemma.lemmatize(token) for token in tokens)}\")"
   ],
   "metadata": {
    "collapsed": false,
    "pycharm": {
     "name": "#%%\n"
    }
   }
  },
  {
   "cell_type": "code",
   "execution_count": null,
   "outputs": [],
   "source": [],
   "metadata": {
    "collapsed": false,
    "pycharm": {
     "name": "#%%\n"
    }
   }
  }
 ],
 "metadata": {
  "kernelspec": {
   "display_name": "Python 3",
   "language": "python",
   "name": "python3"
  },
  "language_info": {
   "codemirror_mode": {
    "name": "ipython",
    "version": 2
   },
   "file_extension": ".py",
   "mimetype": "text/x-python",
   "name": "python",
   "nbconvert_exporter": "python",
   "pygments_lexer": "ipython2",
   "version": "2.7.6"
  }
 },
 "nbformat": 4,
 "nbformat_minor": 0
}