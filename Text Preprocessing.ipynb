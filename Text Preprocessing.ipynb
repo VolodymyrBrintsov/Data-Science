{
 "cells": [
  {
   "cell_type": "markdown",
   "metadata": {
    "collapsed": true,
    "pycharm": {
     "name": "#%% md\n"
    }
   },
   "source": [
    "# Tokenization:\n",
    "- Is a process that splits in input sequence into tokens(ex. split the text on whitespaces: \"This is Adrew\" -> [\"This\", \"is\", \"Andrew\"])\n",
    "\n"
   ]
  },
  {
   "cell_type": "code",
   "execution_count": 3,
   "outputs": [
    {
     "data": {
      "text/plain": "['This', 'is', 'my', 'friend', \"'s\", 'text', '!']"
     },
     "execution_count": 3,
     "metadata": {},
     "output_type": "execute_result"
    }
   ],
   "source": [
    "import nltk\n",
    "text = \"This is my friend's text!\"\n",
    "#Tokenization TreebankWordTokenization\n",
    "tokens = nltk.tokenize.word_tokenize(text)\n",
    "tokens"
   ],
   "metadata": {
    "collapsed": false,
    "pycharm": {
     "name": "#%%\n"
    }
   }
  },
  {
   "cell_type": "markdown",
   "source": [
    "### There are different types of tokenization:\n",
    "- WhiteSpace tokenization:"
   ],
   "metadata": {
    "collapsed": false,
    "pycharm": {
     "name": "#%% md\n"
    }
   }
  },
  {
   "cell_type": "code",
   "execution_count": 5,
   "outputs": [
    {
     "name": "stdout",
     "output_type": "stream",
     "text": [
      "Splitting by whitespaces: ['This', 'is', 'my', \"friend's\", 'text!']\n",
      "\n"
     ]
    }
   ],
   "source": [
    "#White spaces tokenization:\n",
    "white_space_tokens = nltk.tokenize.WhitespaceTokenizer().tokenize(text)\n",
    "print(f\"Splitting by whitespaces: {white_space_tokens}\\n\")\n"
   ],
   "metadata": {
    "collapsed": false,
    "pycharm": {
     "name": "#%%\n"
    }
   }
  },
  {
   "cell_type": "markdown",
   "source": [
    "- TreeBank tokenization:\n",
    "    - split standard contractions, e.g. don't -> **do n't** and they'll -> **they 'll**\n",
    "    - treat most punctuation characters as separate tokens\n",
    "    - split off commas and single quotes, when followed by whitespace\n",
    "    - separate periods that appear at the end of line"
   ],
   "metadata": {
    "collapsed": false,
    "pycharm": {
     "name": "#%% md\n"
    }
   }
  },
  {
   "cell_type": "code",
   "execution_count": 6,
   "outputs": [
    {
     "name": "stdout",
     "output_type": "stream",
     "text": [
      "TreeBank splitting: ['This', 'is', 'my', 'friend', \"'s\", 'text', '!']\n",
      "\n"
     ]
    }
   ],
   "source": [
    "#TreeBankTokenization\n",
    "tree_bank_tokens = nltk.tokenize.TreebankWordTokenizer().tokenize(text)\n",
    "print(f\"TreeBank splitting: {tree_bank_tokens}\\n\")"
   ],
   "metadata": {
    "collapsed": false,
    "pycharm": {
     "name": "#%%\n"
    }
   }
  },
  {
   "cell_type": "markdown",
   "source": [
    "- WordPunct tokenization:\n",
    "    - Tokenize a text into a sequence of alphabetic and non-alphabetic characters, using the regexp **\\w+|[^\\w\\s]+**."
   ],
   "metadata": {
    "collapsed": false,
    "pycharm": {
     "name": "#%% md\n"
    }
   }
  },
  {
   "cell_type": "code",
   "execution_count": 7,
   "outputs": [
    {
     "name": "stdout",
     "output_type": "stream",
     "text": [
      "Splitting on punctuation: ['This', 'is', 'my', 'friend', \"'\", 's', 'text', '!']\n",
      "\n"
     ]
    }
   ],
   "source": [
    "#WordPunctTokenization\n",
    "word_punct_tokens = nltk.tokenize.WordPunctTokenizer().tokenize(text)\n",
    "print(f\"Splitting on punctuation: {word_punct_tokens}\\n\")"
   ],
   "metadata": {
    "collapsed": false,
    "pycharm": {
     "name": "#%%\n"
    }
   }
  },
  {
   "cell_type": "code",
   "source": [],
   "metadata": {
    "collapsed": false,
    "pycharm": {
     "name": "#%% \n"
    }
   },
   "execution_count": null,
   "outputs": []
  },
  {
   "cell_type": "code",
   "execution_count": null,
   "outputs": [],
   "source": [],
   "metadata": {
    "collapsed": false,
    "pycharm": {
     "name": "#%%\n"
    }
   }
  }
 ],
 "metadata": {
  "kernelspec": {
   "display_name": "Python 3",
   "language": "python",
   "name": "python3"
  },
  "language_info": {
   "codemirror_mode": {
    "name": "ipython",
    "version": 2
   },
   "file_extension": ".py",
   "mimetype": "text/x-python",
   "name": "python",
   "nbconvert_exporter": "python",
   "pygments_lexer": "ipython2",
   "version": "2.7.6"
  }
 },
 "nbformat": 4,
 "nbformat_minor": 0
}