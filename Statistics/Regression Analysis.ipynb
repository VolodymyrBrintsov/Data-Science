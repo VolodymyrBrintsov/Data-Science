{
 "cells": [
  {
   "cell_type": "code",
   "execution_count": 1,
   "metadata": {
    "collapsed": true
   },
   "outputs": [],
   "source": [
    "import pandas as pd\n",
    "from sklearn.linear_model import LinearRegression\n",
    "import numpy as np\n",
    "import matplotlib.pyplot as plt\n",
    "import seaborn as sns"
   ]
  },
  {
   "cell_type": "markdown",
   "source": [
    "# It allows to research a dependence between x and y\n",
    "- intercept = (mean of y) - slope * (mean of x) - where line cross y axis\n",
    "- slope = standard deviation of y devided by standard deviation of x and multiplied by correlation - angle over x axis\n",
    "\n",
    "# Uses Least Squares Method\n",
    "# It can be used if:\n",
    "1. There is a Linear Dependence\n",
    "2. Residuals are normally distributed\n",
    "3. Residuals are always changed on each level of x"
   ],
   "metadata": {
    "collapsed": false
   }
  },
  {
   "cell_type": "code",
   "execution_count": 2,
   "outputs": [
    {
     "data": {
      "text/plain": "        state  metro_res  white  hs_grad  poverty  female_house\n0     Alabama       55.4   71.3     79.9     14.6          14.2\n1      Alaska       65.6   70.8     90.6      8.3          10.8\n2     Arizona       88.2   87.7     83.8     13.3          11.1\n3    Arkansas       52.5   81.0     80.9     18.0          12.1\n4  California       94.4   77.5     81.1     12.8          12.6",
      "text/html": "<div>\n<style scoped>\n    .dataframe tbody tr th:only-of-type {\n        vertical-align: middle;\n    }\n\n    .dataframe tbody tr th {\n        vertical-align: top;\n    }\n\n    .dataframe thead th {\n        text-align: right;\n    }\n</style>\n<table border=\"1\" class=\"dataframe\">\n  <thead>\n    <tr style=\"text-align: right;\">\n      <th></th>\n      <th>state</th>\n      <th>metro_res</th>\n      <th>white</th>\n      <th>hs_grad</th>\n      <th>poverty</th>\n      <th>female_house</th>\n    </tr>\n  </thead>\n  <tbody>\n    <tr>\n      <th>0</th>\n      <td>Alabama</td>\n      <td>55.4</td>\n      <td>71.3</td>\n      <td>79.9</td>\n      <td>14.6</td>\n      <td>14.2</td>\n    </tr>\n    <tr>\n      <th>1</th>\n      <td>Alaska</td>\n      <td>65.6</td>\n      <td>70.8</td>\n      <td>90.6</td>\n      <td>8.3</td>\n      <td>10.8</td>\n    </tr>\n    <tr>\n      <th>2</th>\n      <td>Arizona</td>\n      <td>88.2</td>\n      <td>87.7</td>\n      <td>83.8</td>\n      <td>13.3</td>\n      <td>11.1</td>\n    </tr>\n    <tr>\n      <th>3</th>\n      <td>Arkansas</td>\n      <td>52.5</td>\n      <td>81.0</td>\n      <td>80.9</td>\n      <td>18.0</td>\n      <td>12.1</td>\n    </tr>\n    <tr>\n      <th>4</th>\n      <td>California</td>\n      <td>94.4</td>\n      <td>77.5</td>\n      <td>81.1</td>\n      <td>12.8</td>\n      <td>12.6</td>\n    </tr>\n  </tbody>\n</table>\n</div>"
     },
     "execution_count": 2,
     "metadata": {},
     "output_type": "execute_result"
    }
   ],
   "source": [
    "df = pd.read_csv(\"../data/states.csv\")\n",
    "df.head()"
   ],
   "metadata": {
    "collapsed": false,
    "pycharm": {
     "name": "#%%\n"
    }
   }
  },
  {
   "cell_type": "markdown",
   "source": [
    "# Linear Regression can help us to understand the dependence of y over x, let's reserch the dependence between poverty and level of education"
   ],
   "metadata": {
    "collapsed": false
   }
  },
  {
   "cell_type": "code",
   "execution_count": 3,
   "outputs": [
    {
     "data": {
      "text/plain": "<matplotlib.collections.PathCollection at 0x7f4c501f3f10>"
     },
     "execution_count": 3,
     "metadata": {},
     "output_type": "execute_result"
    },
    {
     "data": {
      "text/plain": "<Figure size 432x288 with 1 Axes>",
      "image/png": "[encoded data removed]"
     },
     "metadata": {
      "needs_background": "light"
     },
     "output_type": "display_data"
    }
   ],
   "source": [
    "education = df['hs_grad']\n",
    "poverty = df['poverty']\n",
    "plt.scatter(poverty, education)"
   ],
   "metadata": {
    "collapsed": false,
    "pycharm": {
     "name": "#%%\n"
    }
   }
  },
  {
   "cell_type": "markdown",
   "source": [
    "# Using scatter plot we can see that there is linear dependence and correlation is negative which stands for more bigger is poverty the less is level of edcation"
   ],
   "metadata": {
    "collapsed": false
   }
  },
  {
   "cell_type": "markdown",
   "source": [
    "# Create a Linear Regression Model to predict level of education based on poverty level"
   ],
   "metadata": {
    "collapsed": false
   }
  },
  {
   "cell_type": "code",
   "execution_count": 7,
   "outputs": [
    {
     "name": "stdout",
     "output_type": "stream",
     "text": [
      "[-0.89791088]\n",
      "96.20217289942846\n"
     ]
    }
   ],
   "source": [
    "reg = LinearRegression().fit(np.array(poverty).reshape(-1, 1), education)\n",
    "print(reg.coef_)\n",
    "print(reg.intercept_)"
   ],
   "metadata": {
    "collapsed": false,
    "pycharm": {
     "name": "#%%\n"
    }
   }
  },
  {
   "cell_type": "code",
   "execution_count": 11,
   "outputs": [
    {
     "data": {
      "text/plain": "<matplotlib.legend.Legend at 0x7f4be6a7b7f0>"
     },
     "execution_count": 11,
     "metadata": {},
     "output_type": "execute_result"
    },
    {
     "data": {
      "text/plain": "<Figure size 432x288 with 1 Axes>",
      "image/png": "[encoded data removed]"
     },
     "metadata": {
      "needs_background": "light"
     },
     "output_type": "display_data"
    }
   ],
   "source": [
    "plt.scatter(poverty, education)\n",
    "plt.plot(poverty, poverty*reg.coef_+reg.intercept_, label=\"Fitted Line\")\n",
    "plt.ylabel(\"Poverty(%)\")\n",
    "plt.title(\"Level of Education Expressed in Poverty\")\n",
    "plt.xlabel(\"Level of Education(%)\")\n",
    "plt.legend()"
   ],
   "metadata": {
    "collapsed": false,
    "pycharm": {
     "name": "#%%\n"
    }
   }
  },
  {
   "cell_type": "code",
   "execution_count": 15,
   "outputs": [
    {
     "name": "stdout",
     "output_type": "stream",
     "text": [
      "R-Squared = 0.5577972503105935\n"
     ]
    }
   ],
   "source": [
    "print(f\"R-Squared = {reg.score(np.array(poverty).reshape(-1, 1), np.array(education).reshape(-1, 1))}\")"
   ],
   "metadata": {
    "collapsed": false,
    "pycharm": {
     "name": "#%%\n"
    }
   }
  },
  {
   "cell_type": "markdown",
   "source": [
    "# R-Squared = 0.5578 tells us that 55% of variance of y is explained by x\n",
    "# Slope = - 0.89 tells us that by changing x by 1 our y will be decreased by -0.89"
   ],
   "metadata": {
    "collapsed": false
   }
  },
  {
   "cell_type": "code",
   "execution_count": 17,
   "outputs": [],
   "source": [
    "prediction = reg.predict(np.array(poverty).reshape(-1, 1))\n",
    "residual = (education - prediction)"
   ],
   "metadata": {
    "collapsed": false,
    "pycharm": {
     "name": "#%%\n"
    }
   }
  },
  {
   "cell_type": "code",
   "execution_count": 19,
   "outputs": [
    {
     "data": {
      "text/plain": "(array([1., 1., 0., 0., 0., 1., 4., 2., 1., 3., 2., 1., 0., 4., 5., 0., 9.,\n        3., 4., 2., 0., 3., 2., 0., 0., 1., 1., 0., 0., 1.]),\n array([-5.95369083, -5.54859426, -5.14349769, -4.73840113, -4.33330456,\n        -3.92820799, -3.52311143, -3.11801486, -2.71291829, -2.30782173,\n        -1.90272516, -1.49762859, -1.09253203, -0.68743546, -0.2823389 ,\n         0.12275767,  0.52785424,  0.9329508 ,  1.33804737,  1.74314394,\n         2.1482405 ,  2.55333707,  2.95843364,  3.3635302 ,  3.76862677,\n         4.17372334,  4.5788199 ,  4.98391647,  5.38901304,  5.7941096 ,\n         6.19920617]),\n <BarContainer object of 30 artists>)"
     },
     "execution_count": 19,
     "metadata": {},
     "output_type": "execute_result"
    },
    {
     "data": {
      "text/plain": "<Figure size 432x288 with 1 Axes>",
      "image/png": "[encoded data removed]"
     },
     "metadata": {
      "needs_background": "light"
     },
     "output_type": "display_data"
    }
   ],
   "source": [
    "plt.hist(residual, bins=30)"
   ],
   "metadata": {
    "collapsed": false,
    "pycharm": {
     "name": "#%%\n"
    }
   }
  },
  {
   "cell_type": "markdown",
   "source": [
    "# Our residuals are normally distributed which means that one of requirements are fulfilled"
   ],
   "metadata": {
    "collapsed": false
   }
  },
  {
   "cell_type": "code",
   "execution_count": null,
   "outputs": [],
   "source": [],
   "metadata": {
    "collapsed": false,
    "pycharm": {
     "name": "#%%\n"
    }
   }
  }
 ],
 "metadata": {
  "kernelspec": {
   "display_name": "Python 3",
   "language": "python",
   "name": "python3"
  },
  "language_info": {
   "codemirror_mode": {
    "name": "ipython",
    "version": 2
   },
   "file_extension": ".py",
   "mimetype": "text/x-python",
   "name": "python",
   "nbconvert_exporter": "python",
   "pygments_lexer": "ipython2",
   "version": "2.7.6"
  }
 },
 "nbformat": 4,
 "nbformat_minor": 0
}