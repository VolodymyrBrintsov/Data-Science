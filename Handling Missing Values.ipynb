{
 "cells": [
  {
   "cell_type": "code",
   "execution_count": 1,
   "metadata": {
    "collapsed": true
   },
   "outputs": [
    {
     "data": {
      "text/plain": "        Date        City   Temp\n0   1-Nov-20   Ahmedabad   34.0\n1   3-Nov-20   Ahmedabad    NaN\n2  10-Nov-20       Anand   38.0\n3  13-Nov-20       Anand    NaN\n4  15-Nov-20      Baroda   40.0\n5  20-Nov-20      Baroda    NaN\n6  23-Nov-20       Delhi    NaN\n7  27-Nov-20       Delhi   40.0",
      "text/html": "<div>\n<style scoped>\n    .dataframe tbody tr th:only-of-type {\n        vertical-align: middle;\n    }\n\n    .dataframe tbody tr th {\n        vertical-align: top;\n    }\n\n    .dataframe thead th {\n        text-align: right;\n    }\n</style>\n<table border=\"1\" class=\"dataframe\">\n  <thead>\n    <tr style=\"text-align: right;\">\n      <th></th>\n      <th>Date</th>\n      <th>City</th>\n      <th>Temp</th>\n    </tr>\n  </thead>\n  <tbody>\n    <tr>\n      <th>0</th>\n      <td>1-Nov-20</td>\n      <td>Ahmedabad</td>\n      <td>34.0</td>\n    </tr>\n    <tr>\n      <th>1</th>\n      <td>3-Nov-20</td>\n      <td>Ahmedabad</td>\n      <td>NaN</td>\n    </tr>\n    <tr>\n      <th>2</th>\n      <td>10-Nov-20</td>\n      <td>Anand</td>\n      <td>38.0</td>\n    </tr>\n    <tr>\n      <th>3</th>\n      <td>13-Nov-20</td>\n      <td>Anand</td>\n      <td>NaN</td>\n    </tr>\n    <tr>\n      <th>4</th>\n      <td>15-Nov-20</td>\n      <td>Baroda</td>\n      <td>40.0</td>\n    </tr>\n    <tr>\n      <th>5</th>\n      <td>20-Nov-20</td>\n      <td>Baroda</td>\n      <td>NaN</td>\n    </tr>\n    <tr>\n      <th>6</th>\n      <td>23-Nov-20</td>\n      <td>Delhi</td>\n      <td>NaN</td>\n    </tr>\n    <tr>\n      <th>7</th>\n      <td>27-Nov-20</td>\n      <td>Delhi</td>\n      <td>40.0</td>\n    </tr>\n  </tbody>\n</table>\n</div>"
     },
     "execution_count": 1,
     "metadata": {},
     "output_type": "execute_result"
    }
   ],
   "source": [
    "import pandas as pd\n",
    "df = pd.read_csv('data/handling_missing_value.csv')\n",
    "df"
   ]
  },
  {
   "cell_type": "markdown",
   "source": [
    "# In order to resolve the problem of missing values we can use:\n",
    "- Drop missing values\n",
    "- Fill missing values with median, mean, mode and etc.\n",
    "- Interpolate"
   ],
   "metadata": {
    "collapsed": false,
    "pycharm": {
     "name": "#%% md\n"
    }
   }
  },
  {
   "cell_type": "markdown",
   "source": [
    "## Interpolation:"
   ],
   "metadata": {
    "collapsed": false,
    "pycharm": {
     "name": "#%% md\n"
    }
   }
  },
  {
   "cell_type": "code",
   "execution_count": 2,
   "outputs": [],
   "source": [
    "df['Date'] = pd.to_datetime(df['Date'])\n",
    "df.set_index(['Date'], inplace=True)"
   ],
   "metadata": {
    "collapsed": false,
    "pycharm": {
     "name": "#%%\n"
    }
   }
  },
  {
   "cell_type": "code",
   "execution_count": 3,
   "outputs": [
    {
     "data": {
      "text/plain": "                  City   Temp\nDate                         \n2020-11-01   Ahmedabad   34.0\n2020-11-03   Ahmedabad   36.0\n2020-11-10       Anand   38.0\n2020-11-13       Anand   39.0\n2020-11-15      Baroda   40.0\n2020-11-20      Baroda   40.0\n2020-11-23       Delhi   40.0\n2020-11-27       Delhi   40.0",
      "text/html": "<div>\n<style scoped>\n    .dataframe tbody tr th:only-of-type {\n        vertical-align: middle;\n    }\n\n    .dataframe tbody tr th {\n        vertical-align: top;\n    }\n\n    .dataframe thead th {\n        text-align: right;\n    }\n</style>\n<table border=\"1\" class=\"dataframe\">\n  <thead>\n    <tr style=\"text-align: right;\">\n      <th></th>\n      <th>City</th>\n      <th>Temp</th>\n    </tr>\n    <tr>\n      <th>Date</th>\n      <th></th>\n      <th></th>\n    </tr>\n  </thead>\n  <tbody>\n    <tr>\n      <th>2020-11-01</th>\n      <td>Ahmedabad</td>\n      <td>34.0</td>\n    </tr>\n    <tr>\n      <th>2020-11-03</th>\n      <td>Ahmedabad</td>\n      <td>36.0</td>\n    </tr>\n    <tr>\n      <th>2020-11-10</th>\n      <td>Anand</td>\n      <td>38.0</td>\n    </tr>\n    <tr>\n      <th>2020-11-13</th>\n      <td>Anand</td>\n      <td>39.0</td>\n    </tr>\n    <tr>\n      <th>2020-11-15</th>\n      <td>Baroda</td>\n      <td>40.0</td>\n    </tr>\n    <tr>\n      <th>2020-11-20</th>\n      <td>Baroda</td>\n      <td>40.0</td>\n    </tr>\n    <tr>\n      <th>2020-11-23</th>\n      <td>Delhi</td>\n      <td>40.0</td>\n    </tr>\n    <tr>\n      <th>2020-11-27</th>\n      <td>Delhi</td>\n      <td>40.0</td>\n    </tr>\n  </tbody>\n</table>\n</div>"
     },
     "execution_count": 3,
     "metadata": {},
     "output_type": "execute_result"
    }
   ],
   "source": [
    "# Linear interpolation, does not include dates field\n",
    "linear_interpolation = df.interpolate()\n",
    "linear_interpolation"
   ],
   "metadata": {
    "collapsed": false,
    "pycharm": {
     "name": "#%%\n"
    }
   }
  },
  {
   "cell_type": "code",
   "execution_count": 4,
   "outputs": [
    {
     "data": {
      "text/plain": "                  City       Temp\nDate                             \n2020-11-01   Ahmedabad  34.000000\n2020-11-03   Ahmedabad  34.888889\n2020-11-10       Anand  38.000000\n2020-11-13       Anand  39.200000\n2020-11-15      Baroda  40.000000\n2020-11-20      Baroda  40.000000\n2020-11-23       Delhi  40.000000\n2020-11-27       Delhi  40.000000",
      "text/html": "<div>\n<style scoped>\n    .dataframe tbody tr th:only-of-type {\n        vertical-align: middle;\n    }\n\n    .dataframe tbody tr th {\n        vertical-align: top;\n    }\n\n    .dataframe thead th {\n        text-align: right;\n    }\n</style>\n<table border=\"1\" class=\"dataframe\">\n  <thead>\n    <tr style=\"text-align: right;\">\n      <th></th>\n      <th>City</th>\n      <th>Temp</th>\n    </tr>\n    <tr>\n      <th>Date</th>\n      <th></th>\n      <th></th>\n    </tr>\n  </thead>\n  <tbody>\n    <tr>\n      <th>2020-11-01</th>\n      <td>Ahmedabad</td>\n      <td>34.000000</td>\n    </tr>\n    <tr>\n      <th>2020-11-03</th>\n      <td>Ahmedabad</td>\n      <td>34.888889</td>\n    </tr>\n    <tr>\n      <th>2020-11-10</th>\n      <td>Anand</td>\n      <td>38.000000</td>\n    </tr>\n    <tr>\n      <th>2020-11-13</th>\n      <td>Anand</td>\n      <td>39.200000</td>\n    </tr>\n    <tr>\n      <th>2020-11-15</th>\n      <td>Baroda</td>\n      <td>40.000000</td>\n    </tr>\n    <tr>\n      <th>2020-11-20</th>\n      <td>Baroda</td>\n      <td>40.000000</td>\n    </tr>\n    <tr>\n      <th>2020-11-23</th>\n      <td>Delhi</td>\n      <td>40.000000</td>\n    </tr>\n    <tr>\n      <th>2020-11-27</th>\n      <td>Delhi</td>\n      <td>40.000000</td>\n    </tr>\n  </tbody>\n</table>\n</div>"
     },
     "execution_count": 4,
     "metadata": {},
     "output_type": "execute_result"
    }
   ],
   "source": [
    "# Time interpolation, interpolate missing values looking and the timestamp index\n",
    "time_interpolation = df.interpolate(method='time')\n",
    "time_interpolation\n"
   ],
   "metadata": {
    "collapsed": false,
    "pycharm": {
     "name": "#%%\n"
    }
   }
  },
  {
   "cell_type": "code",
   "execution_count": 5,
   "outputs": [
    {
     "data": {
      "text/plain": "                  City       Temp\nDate                             \n2020-11-01   Ahmedabad  34.000000\n2020-11-03   Ahmedabad  34.902942\n2020-11-10       Anand  38.000000\n2020-11-13       Anand  39.291119\n2020-11-15      Baroda  40.000000\n2020-11-20      Baroda  40.886101\n2020-11-23       Delhi  40.810149\n2020-11-27       Delhi  40.000000",
      "text/html": "<div>\n<style scoped>\n    .dataframe tbody tr th:only-of-type {\n        vertical-align: middle;\n    }\n\n    .dataframe tbody tr th {\n        vertical-align: top;\n    }\n\n    .dataframe thead th {\n        text-align: right;\n    }\n</style>\n<table border=\"1\" class=\"dataframe\">\n  <thead>\n    <tr style=\"text-align: right;\">\n      <th></th>\n      <th>City</th>\n      <th>Temp</th>\n    </tr>\n    <tr>\n      <th>Date</th>\n      <th></th>\n      <th></th>\n    </tr>\n  </thead>\n  <tbody>\n    <tr>\n      <th>2020-11-01</th>\n      <td>Ahmedabad</td>\n      <td>34.000000</td>\n    </tr>\n    <tr>\n      <th>2020-11-03</th>\n      <td>Ahmedabad</td>\n      <td>34.902942</td>\n    </tr>\n    <tr>\n      <th>2020-11-10</th>\n      <td>Anand</td>\n      <td>38.000000</td>\n    </tr>\n    <tr>\n      <th>2020-11-13</th>\n      <td>Anand</td>\n      <td>39.291119</td>\n    </tr>\n    <tr>\n      <th>2020-11-15</th>\n      <td>Baroda</td>\n      <td>40.000000</td>\n    </tr>\n    <tr>\n      <th>2020-11-20</th>\n      <td>Baroda</td>\n      <td>40.886101</td>\n    </tr>\n    <tr>\n      <th>2020-11-23</th>\n      <td>Delhi</td>\n      <td>40.810149</td>\n    </tr>\n    <tr>\n      <th>2020-11-27</th>\n      <td>Delhi</td>\n      <td>40.000000</td>\n    </tr>\n  </tbody>\n</table>\n</div>"
     },
     "execution_count": 5,
     "metadata": {},
     "output_type": "execute_result"
    }
   ],
   "source": [
    "# Quadratic interpolation, very useful if we have to deal with time series\n",
    "quadratic_interpolation = df.interpolate(method='quadratic')\n",
    "quadratic_interpolation"
   ],
   "metadata": {
    "collapsed": false,
    "pycharm": {
     "name": "#%%\n"
    }
   }
  },
  {
   "cell_type": "code",
   "execution_count": 6,
   "outputs": [
    {
     "data": {
      "text/plain": "                  City       Temp\nDate                             \n2020-11-01   Ahmedabad  34.000000\n2020-11-03   Ahmedabad  34.801810\n2020-11-10       Anand  38.000000\n2020-11-13       Anand  39.275415\n2020-11-15      Baroda  40.000000\n2020-11-20      Baroda  41.097536\n2020-11-23       Delhi  41.078618\n2020-11-27       Delhi  40.000000",
      "text/html": "<div>\n<style scoped>\n    .dataframe tbody tr th:only-of-type {\n        vertical-align: middle;\n    }\n\n    .dataframe tbody tr th {\n        vertical-align: top;\n    }\n\n    .dataframe thead th {\n        text-align: right;\n    }\n</style>\n<table border=\"1\" class=\"dataframe\">\n  <thead>\n    <tr style=\"text-align: right;\">\n      <th></th>\n      <th>City</th>\n      <th>Temp</th>\n    </tr>\n    <tr>\n      <th>Date</th>\n      <th></th>\n      <th></th>\n    </tr>\n  </thead>\n  <tbody>\n    <tr>\n      <th>2020-11-01</th>\n      <td>Ahmedabad</td>\n      <td>34.000000</td>\n    </tr>\n    <tr>\n      <th>2020-11-03</th>\n      <td>Ahmedabad</td>\n      <td>34.801810</td>\n    </tr>\n    <tr>\n      <th>2020-11-10</th>\n      <td>Anand</td>\n      <td>38.000000</td>\n    </tr>\n    <tr>\n      <th>2020-11-13</th>\n      <td>Anand</td>\n      <td>39.275415</td>\n    </tr>\n    <tr>\n      <th>2020-11-15</th>\n      <td>Baroda</td>\n      <td>40.000000</td>\n    </tr>\n    <tr>\n      <th>2020-11-20</th>\n      <td>Baroda</td>\n      <td>41.097536</td>\n    </tr>\n    <tr>\n      <th>2020-11-23</th>\n      <td>Delhi</td>\n      <td>41.078618</td>\n    </tr>\n    <tr>\n      <th>2020-11-27</th>\n      <td>Delhi</td>\n      <td>40.000000</td>\n    </tr>\n  </tbody>\n</table>\n</div>"
     },
     "execution_count": 6,
     "metadata": {},
     "output_type": "execute_result"
    }
   ],
   "source": [
    "# Spline or polynomial interpolation uses order(degree) parameter\n",
    "poly_interpolation = df.interpolate(method='polynomial', order=3)\n",
    "poly_interpolation"
   ],
   "metadata": {
    "collapsed": false,
    "pycharm": {
     "name": "#%%\n"
    }
   }
  },
  {
   "cell_type": "markdown",
   "source": [
    "## Fillna method:"
   ],
   "metadata": {
    "collapsed": false,
    "pycharm": {
     "name": "#%% md\n"
    }
   }
  },
  {
   "cell_type": "code",
   "execution_count": 7,
   "outputs": [
    {
     "data": {
      "text/plain": "        Date        City   Temp\n0 2020-11-01   Ahmedabad   34.0\n1 2020-11-03   Ahmedabad    0.0\n2 2020-11-10       Anand   38.0\n3 2020-11-13       Anand    0.0\n4 2020-11-15      Baroda   40.0\n5 2020-11-20      Baroda    0.0\n6 2020-11-23       Delhi    0.0\n7 2020-11-27       Delhi   40.0",
      "text/html": "<div>\n<style scoped>\n    .dataframe tbody tr th:only-of-type {\n        vertical-align: middle;\n    }\n\n    .dataframe tbody tr th {\n        vertical-align: top;\n    }\n\n    .dataframe thead th {\n        text-align: right;\n    }\n</style>\n<table border=\"1\" class=\"dataframe\">\n  <thead>\n    <tr style=\"text-align: right;\">\n      <th></th>\n      <th>Date</th>\n      <th>City</th>\n      <th>Temp</th>\n    </tr>\n  </thead>\n  <tbody>\n    <tr>\n      <th>0</th>\n      <td>2020-11-01</td>\n      <td>Ahmedabad</td>\n      <td>34.0</td>\n    </tr>\n    <tr>\n      <th>1</th>\n      <td>2020-11-03</td>\n      <td>Ahmedabad</td>\n      <td>0.0</td>\n    </tr>\n    <tr>\n      <th>2</th>\n      <td>2020-11-10</td>\n      <td>Anand</td>\n      <td>38.0</td>\n    </tr>\n    <tr>\n      <th>3</th>\n      <td>2020-11-13</td>\n      <td>Anand</td>\n      <td>0.0</td>\n    </tr>\n    <tr>\n      <th>4</th>\n      <td>2020-11-15</td>\n      <td>Baroda</td>\n      <td>40.0</td>\n    </tr>\n    <tr>\n      <th>5</th>\n      <td>2020-11-20</td>\n      <td>Baroda</td>\n      <td>0.0</td>\n    </tr>\n    <tr>\n      <th>6</th>\n      <td>2020-11-23</td>\n      <td>Delhi</td>\n      <td>0.0</td>\n    </tr>\n    <tr>\n      <th>7</th>\n      <td>2020-11-27</td>\n      <td>Delhi</td>\n      <td>40.0</td>\n    </tr>\n  </tbody>\n</table>\n</div>"
     },
     "execution_count": 7,
     "metadata": {},
     "output_type": "execute_result"
    }
   ],
   "source": [
    "#Fills all missing values in data set with 0 values\n",
    "df.reset_index(inplace=True)\n",
    "df.fillna(0)"
   ],
   "metadata": {
    "collapsed": false,
    "pycharm": {
     "name": "#%%\n"
    }
   }
  },
  {
   "cell_type": "code",
   "execution_count": 8,
   "outputs": [
    {
     "name": "stdout",
     "output_type": "stream",
     "text": [
      "        Date        City   Temp\n",
      "0 2020-11-01   Ahmedabad   34.0\n",
      "1 2020-11-03   Ahmedabad   34.0\n",
      "2 2020-11-10       Anand   38.0\n",
      "3 2020-11-13       Anand   38.0\n",
      "4 2020-11-15      Baroda   40.0\n",
      "5 2020-11-20      Baroda   40.0\n",
      "6 2020-11-23       Delhi   40.0\n",
      "7 2020-11-27       Delhi   40.0\n",
      "        Date        City   Temp\n",
      "0 2020-11-01   Ahmedabad   34.0\n",
      "1 2020-11-03   Ahmedabad   38.0\n",
      "2 2020-11-10       Anand   38.0\n",
      "3 2020-11-13       Anand   40.0\n",
      "4 2020-11-15      Baroda   40.0\n",
      "5 2020-11-20      Baroda   40.0\n",
      "6 2020-11-23       Delhi   40.0\n",
      "7 2020-11-27       Delhi   40.0\n"
     ]
    }
   ],
   "source": [
    "# You can use ffill and bfill if need replace NaN values forward and backward filling\n",
    "print(df.fillna(method='ffill'))\n",
    "print(df.fillna(method='bfill'))"
   ],
   "metadata": {
    "collapsed": false,
    "pycharm": {
     "name": "#%%\n"
    }
   }
  },
  {
   "cell_type": "markdown",
   "source": [
    "## Dropna method"
   ],
   "metadata": {
    "collapsed": false,
    "pycharm": {
     "name": "#%% md\n"
    }
   }
  },
  {
   "cell_type": "code",
   "execution_count": 9,
   "outputs": [
    {
     "data": {
      "text/plain": "        Date        City   Temp\n0 2020-11-01   Ahmedabad   34.0\n2 2020-11-10       Anand   38.0\n4 2020-11-15      Baroda   40.0\n7 2020-11-27       Delhi   40.0",
      "text/html": "<div>\n<style scoped>\n    .dataframe tbody tr th:only-of-type {\n        vertical-align: middle;\n    }\n\n    .dataframe tbody tr th {\n        vertical-align: top;\n    }\n\n    .dataframe thead th {\n        text-align: right;\n    }\n</style>\n<table border=\"1\" class=\"dataframe\">\n  <thead>\n    <tr style=\"text-align: right;\">\n      <th></th>\n      <th>Date</th>\n      <th>City</th>\n      <th>Temp</th>\n    </tr>\n  </thead>\n  <tbody>\n    <tr>\n      <th>0</th>\n      <td>2020-11-01</td>\n      <td>Ahmedabad</td>\n      <td>34.0</td>\n    </tr>\n    <tr>\n      <th>2</th>\n      <td>2020-11-10</td>\n      <td>Anand</td>\n      <td>38.0</td>\n    </tr>\n    <tr>\n      <th>4</th>\n      <td>2020-11-15</td>\n      <td>Baroda</td>\n      <td>40.0</td>\n    </tr>\n    <tr>\n      <th>7</th>\n      <td>2020-11-27</td>\n      <td>Delhi</td>\n      <td>40.0</td>\n    </tr>\n  </tbody>\n</table>\n</div>"
     },
     "execution_count": 9,
     "metadata": {},
     "output_type": "execute_result"
    }
   ],
   "source": [
    "# drop all rows if there is a nan value in it\n",
    "df.dropna()\n"
   ],
   "metadata": {
    "collapsed": false,
    "pycharm": {
     "name": "#%%\n"
    }
   }
  },
  {
   "cell_type": "code",
   "execution_count": 10,
   "outputs": [
    {
     "data": {
      "text/plain": "        Date        City   Temp\n0 2020-11-01   Ahmedabad   34.0\n1 2020-11-03   Ahmedabad    NaN\n2 2020-11-10       Anand   38.0\n3 2020-11-13       Anand    NaN\n4 2020-11-15      Baroda   40.0\n5 2020-11-20      Baroda    NaN\n6 2020-11-23       Delhi    NaN\n7 2020-11-27       Delhi   40.0",
      "text/html": "<div>\n<style scoped>\n    .dataframe tbody tr th:only-of-type {\n        vertical-align: middle;\n    }\n\n    .dataframe tbody tr th {\n        vertical-align: top;\n    }\n\n    .dataframe thead th {\n        text-align: right;\n    }\n</style>\n<table border=\"1\" class=\"dataframe\">\n  <thead>\n    <tr style=\"text-align: right;\">\n      <th></th>\n      <th>Date</th>\n      <th>City</th>\n      <th>Temp</th>\n    </tr>\n  </thead>\n  <tbody>\n    <tr>\n      <th>0</th>\n      <td>2020-11-01</td>\n      <td>Ahmedabad</td>\n      <td>34.0</td>\n    </tr>\n    <tr>\n      <th>1</th>\n      <td>2020-11-03</td>\n      <td>Ahmedabad</td>\n      <td>NaN</td>\n    </tr>\n    <tr>\n      <th>2</th>\n      <td>2020-11-10</td>\n      <td>Anand</td>\n      <td>38.0</td>\n    </tr>\n    <tr>\n      <th>3</th>\n      <td>2020-11-13</td>\n      <td>Anand</td>\n      <td>NaN</td>\n    </tr>\n    <tr>\n      <th>4</th>\n      <td>2020-11-15</td>\n      <td>Baroda</td>\n      <td>40.0</td>\n    </tr>\n    <tr>\n      <th>5</th>\n      <td>2020-11-20</td>\n      <td>Baroda</td>\n      <td>NaN</td>\n    </tr>\n    <tr>\n      <th>6</th>\n      <td>2020-11-23</td>\n      <td>Delhi</td>\n      <td>NaN</td>\n    </tr>\n    <tr>\n      <th>7</th>\n      <td>2020-11-27</td>\n      <td>Delhi</td>\n      <td>40.0</td>\n    </tr>\n  </tbody>\n</table>\n</div>"
     },
     "execution_count": 10,
     "metadata": {},
     "output_type": "execute_result"
    }
   ],
   "source": [
    "# drop rows if only they are filled with nan value\n",
    "df.dropna(how='all')\n"
   ],
   "metadata": {
    "collapsed": false,
    "pycharm": {
     "name": "#%%\n"
    }
   }
  },
  {
   "cell_type": "code",
   "execution_count": 11,
   "outputs": [
    {
     "data": {
      "text/plain": "        Date        City   Temp\n0 2020-11-01   Ahmedabad   34.0\n1 2020-11-03   Ahmedabad    NaN\n2 2020-11-10       Anand   38.0\n3 2020-11-13       Anand    NaN\n4 2020-11-15      Baroda   40.0\n5 2020-11-20      Baroda    NaN\n6 2020-11-23       Delhi    NaN\n7 2020-11-27       Delhi   40.0",
      "text/html": "<div>\n<style scoped>\n    .dataframe tbody tr th:only-of-type {\n        vertical-align: middle;\n    }\n\n    .dataframe tbody tr th {\n        vertical-align: top;\n    }\n\n    .dataframe thead th {\n        text-align: right;\n    }\n</style>\n<table border=\"1\" class=\"dataframe\">\n  <thead>\n    <tr style=\"text-align: right;\">\n      <th></th>\n      <th>Date</th>\n      <th>City</th>\n      <th>Temp</th>\n    </tr>\n  </thead>\n  <tbody>\n    <tr>\n      <th>0</th>\n      <td>2020-11-01</td>\n      <td>Ahmedabad</td>\n      <td>34.0</td>\n    </tr>\n    <tr>\n      <th>1</th>\n      <td>2020-11-03</td>\n      <td>Ahmedabad</td>\n      <td>NaN</td>\n    </tr>\n    <tr>\n      <th>2</th>\n      <td>2020-11-10</td>\n      <td>Anand</td>\n      <td>38.0</td>\n    </tr>\n    <tr>\n      <th>3</th>\n      <td>2020-11-13</td>\n      <td>Anand</td>\n      <td>NaN</td>\n    </tr>\n    <tr>\n      <th>4</th>\n      <td>2020-11-15</td>\n      <td>Baroda</td>\n      <td>40.0</td>\n    </tr>\n    <tr>\n      <th>5</th>\n      <td>2020-11-20</td>\n      <td>Baroda</td>\n      <td>NaN</td>\n    </tr>\n    <tr>\n      <th>6</th>\n      <td>2020-11-23</td>\n      <td>Delhi</td>\n      <td>NaN</td>\n    </tr>\n    <tr>\n      <th>7</th>\n      <td>2020-11-27</td>\n      <td>Delhi</td>\n      <td>40.0</td>\n    </tr>\n  </tbody>\n</table>\n</div>"
     },
     "execution_count": 11,
     "metadata": {},
     "output_type": "execute_result"
    }
   ],
   "source": [
    "# drop rows if they have more than 2 missing values\n",
    "df.dropna(thresh=2)\n"
   ],
   "metadata": {
    "collapsed": false,
    "pycharm": {
     "name": "#%%\n"
    }
   }
  }
 ],
 "metadata": {
  "kernelspec": {
   "display_name": "Python 3",
   "language": "python",
   "name": "python3"
  },
  "language_info": {
   "codemirror_mode": {
    "name": "ipython",
    "version": 2
   },
   "file_extension": ".py",
   "mimetype": "text/x-python",
   "name": "python",
   "nbconvert_exporter": "python",
   "pygments_lexer": "ipython2",
   "version": "2.7.6"
  }
 },
 "nbformat": 4,
 "nbformat_minor": 0
}